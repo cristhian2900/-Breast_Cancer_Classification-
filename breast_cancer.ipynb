{
 "cells": [
  {
   "cell_type": "code",
   "execution_count": 70,
   "metadata": {},
   "outputs": [],
   "source": [
    "import pandas as pd\n",
    "import numpy as np\n",
    "import os\n",
    "import joblib\n",
    "import matplotlib.pyplot as plt\n",
    "import seaborn as sns\n",
    "import tensorflow as tf\n",
    "\n",
    "\n",
    "from sklearn.model_selection import train_test_split\n",
    "from sklearn.preprocessing import StandardScaler\n",
    "from sklearn.metrics import classification_report, roc_auc_score, confusion_matrix\n",
    "from sklearn.linear_model import LogisticRegression\n",
    "from sklearn.ensemble import RandomForestClassifier\n",
    "\n",
    "\n",
    "from tensorflow.keras.models import Sequential, load_model\n",
    "from tensorflow.keras.layers import Dense, Dropout, BatchNormalization, Input\n",
    "from tensorflow.keras.callbacks import EarlyStopping, ModelCheckpoint\n",
    "from tensorflow.keras.utils import plot_model\n",
    "from IPython.display import Image, display"
   ]
  },
  {
   "cell_type": "code",
   "execution_count": 71,
   "metadata": {},
   "outputs": [],
   "source": [
    "# Reduce TensorFlow logging verbosity\n",
    "tf.get_logger().setLevel('ERROR')\n"
   ]
  },
  {
   "cell_type": "code",
   "execution_count": 72,
   "metadata": {},
   "outputs": [],
   "source": [
    "# Define parameters\n",
    "random_state = 42\n",
    "test_size = 0.2\n",
    "epochs = 50 # Increased epochs for potentially better convergence\n",
    "batch_size = 32\n",
    "patience = 10 # Early stopping patience"
   ]
  },
  {
   "cell_type": "code",
   "execution_count": 73,
   "metadata": {},
   "outputs": [
    {
     "name": "stdout",
     "output_type": "stream",
     "text": [
      "Dataset loaded successfully.\n"
     ]
    },
    {
     "data": {
      "text/html": [
       "<div>\n",
       "<style scoped>\n",
       "    .dataframe tbody tr th:only-of-type {\n",
       "        vertical-align: middle;\n",
       "    }\n",
       "\n",
       "    .dataframe tbody tr th {\n",
       "        vertical-align: top;\n",
       "    }\n",
       "\n",
       "    .dataframe thead th {\n",
       "        text-align: right;\n",
       "    }\n",
       "</style>\n",
       "<table border=\"1\" class=\"dataframe\">\n",
       "  <thead>\n",
       "    <tr style=\"text-align: right;\">\n",
       "      <th></th>\n",
       "      <th>Sample code number</th>\n",
       "      <th>Clump Thickness</th>\n",
       "      <th>Uniformity of Cell Size</th>\n",
       "      <th>Uniformity of Cell Shape</th>\n",
       "      <th>Marginal Adhesion</th>\n",
       "      <th>Single Epithelial Cell Size</th>\n",
       "      <th>Bare Nuclei</th>\n",
       "      <th>Bland Chromatin</th>\n",
       "      <th>Normal Nucleoli</th>\n",
       "      <th>Mitoses</th>\n",
       "      <th>Class</th>\n",
       "    </tr>\n",
       "  </thead>\n",
       "  <tbody>\n",
       "    <tr>\n",
       "      <th>0</th>\n",
       "      <td>1000025</td>\n",
       "      <td>5</td>\n",
       "      <td>1</td>\n",
       "      <td>1</td>\n",
       "      <td>1</td>\n",
       "      <td>2</td>\n",
       "      <td>1</td>\n",
       "      <td>3</td>\n",
       "      <td>1</td>\n",
       "      <td>1</td>\n",
       "      <td>2</td>\n",
       "    </tr>\n",
       "    <tr>\n",
       "      <th>1</th>\n",
       "      <td>1002945</td>\n",
       "      <td>5</td>\n",
       "      <td>4</td>\n",
       "      <td>4</td>\n",
       "      <td>5</td>\n",
       "      <td>7</td>\n",
       "      <td>10</td>\n",
       "      <td>3</td>\n",
       "      <td>2</td>\n",
       "      <td>1</td>\n",
       "      <td>2</td>\n",
       "    </tr>\n",
       "    <tr>\n",
       "      <th>2</th>\n",
       "      <td>1015425</td>\n",
       "      <td>3</td>\n",
       "      <td>1</td>\n",
       "      <td>1</td>\n",
       "      <td>1</td>\n",
       "      <td>2</td>\n",
       "      <td>2</td>\n",
       "      <td>3</td>\n",
       "      <td>1</td>\n",
       "      <td>1</td>\n",
       "      <td>2</td>\n",
       "    </tr>\n",
       "    <tr>\n",
       "      <th>3</th>\n",
       "      <td>1016277</td>\n",
       "      <td>6</td>\n",
       "      <td>8</td>\n",
       "      <td>8</td>\n",
       "      <td>1</td>\n",
       "      <td>3</td>\n",
       "      <td>4</td>\n",
       "      <td>3</td>\n",
       "      <td>7</td>\n",
       "      <td>1</td>\n",
       "      <td>2</td>\n",
       "    </tr>\n",
       "    <tr>\n",
       "      <th>4</th>\n",
       "      <td>1017023</td>\n",
       "      <td>4</td>\n",
       "      <td>1</td>\n",
       "      <td>1</td>\n",
       "      <td>3</td>\n",
       "      <td>2</td>\n",
       "      <td>1</td>\n",
       "      <td>3</td>\n",
       "      <td>1</td>\n",
       "      <td>1</td>\n",
       "      <td>2</td>\n",
       "    </tr>\n",
       "  </tbody>\n",
       "</table>\n",
       "</div>"
      ],
      "text/plain": [
       "   Sample code number  Clump Thickness  Uniformity of Cell Size  \\\n",
       "0             1000025                5                        1   \n",
       "1             1002945                5                        4   \n",
       "2             1015425                3                        1   \n",
       "3             1016277                6                        8   \n",
       "4             1017023                4                        1   \n",
       "\n",
       "   Uniformity of Cell Shape  Marginal Adhesion  Single Epithelial Cell Size  \\\n",
       "0                         1                  1                            2   \n",
       "1                         4                  5                            7   \n",
       "2                         1                  1                            2   \n",
       "3                         8                  1                            3   \n",
       "4                         1                  3                            2   \n",
       "\n",
       "   Bare Nuclei  Bland Chromatin  Normal Nucleoli  Mitoses  Class  \n",
       "0            1                3                1        1      2  \n",
       "1           10                3                2        1      2  \n",
       "2            2                3                1        1      2  \n",
       "3            4                3                7        1      2  \n",
       "4            1                3                1        1      2  "
      ]
     },
     "metadata": {},
     "output_type": "display_data"
    }
   ],
   "source": [
    "# Load dataset\n",
    "try:\n",
    "    df = pd.read_csv('breast_cancer.csv')\n",
    "    print(\"Dataset loaded successfully.\")\n",
    "    display(df.head())\n",
    "except FileNotFoundError:\n",
    "    print(\"Error: breast_cancer.csv not found. Please make sure the file is in the correct directory.\")\n",
    "    # Handle error appropriately, e.g., exit or try a different path\n",
    "    exit()\n"
   ]
  },
  {
   "cell_type": "code",
   "execution_count": 74,
   "metadata": {},
   "outputs": [
    {
     "name": "stdout",
     "output_type": "stream",
     "text": [
      "'Sample code number' column dropped.\n"
     ]
    },
    {
     "data": {
      "text/plain": [
       "Clump Thickness                0\n",
       "Uniformity of Cell Size        0\n",
       "Uniformity of Cell Shape       0\n",
       "Marginal Adhesion              0\n",
       "Single Epithelial Cell Size    0\n",
       "Bare Nuclei                    0\n",
       "Bland Chromatin                0\n",
       "Normal Nucleoli                0\n",
       "Mitoses                        0\n",
       "Class                          0\n",
       "dtype: int64"
      ]
     },
     "execution_count": 74,
     "metadata": {},
     "output_type": "execute_result"
    }
   ],
   "source": [
    "#clean the dataset\n",
    "if 'Sample code number' in df.columns:\n",
    "    df.drop(columns=['Sample code number'], inplace=True)\n",
    "    print(\"'Sample code number' column dropped.\")\n",
    "\n",
    "#check for missing values\n",
    "df.isnull().sum()"
   ]
  },
  {
   "cell_type": "code",
   "execution_count": 77,
   "metadata": {},
   "outputs": [
    {
     "name": "stdout",
     "output_type": "stream",
     "text": [
      "\n",
      "'Class' column mapped to 0 (benign) and 1 (malignant).\n"
     ]
    },
    {
     "data": {
      "text/plain": [
       "Class\n",
       "0    444\n",
       "1    239\n",
       "Name: count, dtype: int64"
      ]
     },
     "metadata": {},
     "output_type": "display_data"
    }
   ],
   "source": [
    "# Map Class values to binary (0 = benign, 1 = malignant)\n",
    "if 'Class' in df.columns:\n",
    "    df['Class'] = df['Class'].map({2: 0, 4: 1})\n",
    "    print(\"\\n'Class' column mapped to 0 (benign) and 1 (malignant).\")\n",
    "    display(df['Class'].value_counts())\n",
    "else:\n",
    "    print(\"Error: 'Class' column not found in the dataset.\")\n",
    "    exit()\n",
    "\n",
    "\n"
   ]
  },
  {
   "cell_type": "code",
   "execution_count": 78,
   "metadata": {},
   "outputs": [
    {
     "name": "stdout",
     "output_type": "stream",
     "text": [
      "\n",
      "Features (X shape): (683, 9)\n",
      "Target (y shape): (683,)\n"
     ]
    }
   ],
   "source": [
    "# Split features (X) and target (y)\n",
    "X = df.drop('Class', axis=1)\n",
    "y = df['Class']\n",
    "feature_names = X.columns\n",
    "print(f\"\\nFeatures (X shape): {X.shape}\")\n",
    "print(f\"Target (y shape): {y.shape}\")"
   ]
  },
  {
   "cell_type": "code",
   "execution_count": 79,
   "metadata": {},
   "outputs": [
    {
     "name": "stdout",
     "output_type": "stream",
     "text": [
      "\n",
      "Data split: 546 training samples, 137 testing samples.\n"
     ]
    }
   ],
   "source": [
    "# Split data into training and testing sets\n",
    "X_train, X_test, y_train, y_test = train_test_split(X, y, test_size=test_size, stratify=y, random_state=random_state)\n",
    "print(f\"\\nData split: {len(X_train)} training samples, {len(X_test)} testing samples.\")\n"
   ]
  },
  {
   "cell_type": "code",
   "execution_count": 80,
   "metadata": {},
   "outputs": [],
   "source": [
    "# Scale features using StandardScaler\n",
    "scaler = StandardScaler()\n",
    "X_train_scaled = scaler.fit_transform(X_train)\n",
    "X_test_scaled = scaler.transform(X_test)"
   ]
  },
  {
   "cell_type": "code",
   "execution_count": 81,
   "metadata": {},
   "outputs": [
    {
     "name": "stdout",
     "output_type": "stream",
     "text": [
      "Scaler saved to models/scaler.pkl\n"
     ]
    }
   ],
   "source": [
    "# Save the scaler\n",
    "scaler_path = 'models/scaler.pkl'\n",
    "joblib.dump(scaler, scaler_path)\n",
    "print(f\"Scaler saved to {scaler_path}\")"
   ]
  },
  {
   "cell_type": "code",
   "execution_count": 82,
   "metadata": {},
   "outputs": [],
   "source": [
    "def build_deep_learning_model(input_dim):\n",
    "    \"\"\"Builds the Keras Sequential deep learning model.\"\"\"\n",
    "    model = Sequential([\n",
    "        Input(shape=(input_dim,)), # Use Input layer for explicit shape definition\n",
    "        Dense(64, activation='relu'),\n",
    "        BatchNormalization(),\n",
    "        Dropout(0.4),\n",
    "        Dense(32, activation='relu'),\n",
    "        BatchNormalization(),\n",
    "        Dropout(0.3),\n",
    "        Dense(1, activation='sigmoid') # Output layer for binary classification\n",
    "    ])\n",
    "    model.compile(\n",
    "        optimizer='adam',\n",
    "        loss='binary_crossentropy',\n",
    "        metrics=['accuracy']\n",
    "    )\n",
    "    return model\n"
   ]
  },
  {
   "cell_type": "code",
   "execution_count": 83,
   "metadata": {},
   "outputs": [],
   "source": [
    "def build_logistic_regression_model(random_state=42):\n",
    "    \"\"\"Builds the Logistic Regression model.\"\"\"\n",
    "    return LogisticRegression(\n",
    "        class_weight='balanced', # Handles class imbalance\n",
    "        max_iter=1000, # Increased iterations for convergence\n",
    "        random_state=random_state,\n",
    "        C=1.0 # Regularization strength\n",
    "    )"
   ]
  },
  {
   "cell_type": "code",
   "execution_count": 84,
   "metadata": {},
   "outputs": [],
   "source": [
    "def build_random_forest_model(random_state=42):\n",
    "    \"\"\"Builds the Random Forest model.\"\"\"\n",
    "    return RandomForestClassifier(\n",
    "        n_estimators=100, # Number of trees\n",
    "        max_depth=10,\n",
    "        min_samples_split=5,\n",
    "        class_weight='balanced', # Handles class imbalance\n",
    "        random_state=random_state\n",
    "    )"
   ]
  },
  {
   "cell_type": "code",
   "execution_count": 85,
   "metadata": {},
   "outputs": [],
   "source": [
    "\n",
    "def plot_training_history(history, model_name):\n",
    "    \"\"\"Plots the training and validation accuracy and loss.\"\"\"\n",
    "    plt.figure(figsize=(12, 5))\n",
    "\n",
    "    # Plot Accuracy\n",
    "    plt.subplot(1, 2, 1)\n",
    "    plt.plot(history.history['accuracy'], label='Training Accuracy')\n",
    "    plt.plot(history.history['val_accuracy'], label='Validation Accuracy')\n",
    "    plt.title(f'{model_name} - Model Accuracy')\n",
    "    plt.ylabel('Accuracy')\n",
    "    plt.xlabel('Epoch')\n",
    "    plt.legend()\n",
    "    plt.grid(True)\n",
    "\n",
    "    # Plot Loss\n",
    "    plt.subplot(1, 2, 2)\n",
    "    plt.plot(history.history['loss'], label='Training Loss')\n",
    "    plt.plot(history.history['val_loss'], label='Validation Loss')\n",
    "    plt.title(f'{model_name} - Model Loss')\n",
    "    plt.ylabel('Loss')\n",
    "    plt.xlabel('Epoch')\n",
    "    plt.legend()\n",
    "    plt.grid(True)\n",
    "\n",
    "    plt.tight_layout()\n",
    "    # Save the plot\n",
    "    plot_path = f'models/{model_name.replace(\" \", \"_\").lower()}_training_history.png'\n",
    "    plt.savefig(plot_path)\n",
    "    print(f\"Training history plot saved to {plot_path}\")\n",
    "    plt.show()"
   ]
  },
  {
   "cell_type": "code",
   "execution_count": 86,
   "metadata": {},
   "outputs": [],
   "source": [
    "\n",
    "def plot_model_performance(results):\n",
    "    \"\"\"Plots the ROC AUC scores for different models.\"\"\"\n",
    "    if not results:\n",
    "        print(\"No results to plot.\")\n",
    "        return\n",
    "\n",
    "    plt.figure(figsize=(10, 6))\n",
    "    models = list(results.keys())\n",
    "    scores = list(results.values())\n",
    "\n",
    "    if not models: # Check if models list is empty\n",
    "        print(\"No models found in results to plot.\")\n",
    "        return\n",
    "\n",
    "    best_model = max(results, key=results.get)\n",
    "    best_score = results[best_model]\n",
    "\n",
    "    # Create bars with different colors\n",
    "    colors = ['#1f77b4', '#ff7f0e', '#2ca02c', '#d62728', '#9467bd', '#8c564b']\n",
    "    bars = plt.bar(models, scores, color=colors[:len(models)])\n",
    "\n",
    "    # Add chart elements\n",
    "    plt.ylim(min(scores) * 0.95 if scores else 0, max(scores) * 1.05 if scores else 1) # Dynamic ylim\n",
    "    plt.ylabel('ROC AUC Score')\n",
    "    plt.xlabel('Models')\n",
    "    plt.title('Model Performance Comparison (ROC AUC)')\n",
    "    plt.grid(axis='y', linestyle='--', alpha=0.7)\n",
    "\n",
    "    # Highlight the best model\n",
    "    try:\n",
    "        best_index = models.index(best_model)\n",
    "        bars[best_index].set_color('#d62728') # Highlight color\n",
    "        bars[best_index].set_edgecolor('black')\n",
    "        bars[best_index].set_linewidth(1.5)\n",
    "        plt.text(best_index, best_score + 0.01, f'Best: {best_score:.4f}', ha='center', fontweight='bold')\n",
    "    except ValueError:\n",
    "        print(f\"Warning: Best model '{best_model}' not found in results.\")\n",
    "\n",
    "    # Add score labels\n",
    "    for bar in bars:\n",
    "        yval = bar.get_height()\n",
    "        plt.text(bar.get_x() + bar.get_width()/2.0, yval, f'{yval:.4f}', va='bottom', ha='center') # Add text labels\n",
    "\n",
    "    plt.tight_layout()\n",
    "    # Save the plot\n",
    "    plot_path = 'models/model_comparison.png'\n",
    "    plt.savefig(plot_path)\n",
    "    print(f\"Model comparison plot saved to {plot_path}\")\n",
    "    plt.show()\n"
   ]
  },
  {
   "cell_type": "code",
   "execution_count": 87,
   "metadata": {},
   "outputs": [],
   "source": [
    "\n",
    "def plot_feature_importance(model, model_name, feature_names):\n",
    "    \"\"\"Plots feature importances for Logistic Regression or Random Forest.\"\"\"\n",
    "    importances = None\n",
    "    if hasattr(model, 'feature_importances_'): # Random Forest\n",
    "        importances = model.feature_importances_\n",
    "        title = 'Random Forest Feature Importance'\n",
    "        color = 'lightblue'\n",
    "    elif hasattr(model, 'coef_'): # Logistic Regression\n",
    "        importances = np.abs(model.coef_[0]) # Use absolute values for importance magnitude\n",
    "        title = 'Logistic Regression Feature Importance (Absolute Coef)'\n",
    "        color = 'salmon'\n",
    "    else:\n",
    "        print(f\"Feature importance plotting not supported for {model_name}.\")\n",
    "        return\n",
    "\n",
    "    indices = np.argsort(importances)[::-1]\n",
    "\n",
    "    plt.figure(figsize=(10, 6))\n",
    "    plt.title(title)\n",
    "    plt.bar(range(len(importances)), importances[indices], color=color, align='center')\n",
    "    plt.xticks(range(len(importances)), feature_names[indices], rotation=90)\n",
    "    plt.ylabel('Importance Score')\n",
    "    plt.xlabel('Features')\n",
    "    plt.grid(axis='y', linestyle='--', alpha=0.7)\n",
    "    plt.tight_layout()\n",
    "    # Save the plot\n",
    "    plot_path = f'models/{model_name.replace(\" \", \"_\").lower()}_feature_importance.png'\n",
    "    plt.savefig(plot_path)\n",
    "    print(f\"Feature importance plot saved to {plot_path}\")\n",
    "    plt.show()\n"
   ]
  },
  {
   "cell_type": "code",
   "execution_count": 88,
   "metadata": {},
   "outputs": [],
   "source": [
    "def plot_confusion_matrix_func(model, model_name, X_test, y_test):\n",
    "    \"\"\"Plots the confusion matrix for a given model.\"\"\"\n",
    "    # Get predictions (handle different predict methods)\n",
    "    if hasattr(model, 'predict_proba') and not isinstance(model, (LogisticRegression, RandomForestClassifier)): # DL model gives probabilities\n",
    "        y_pred_proba = model.predict(X_test)\n",
    "        y_pred = (y_pred_proba > 0.5).astype(int).flatten() # Convert probabilities to binary predictions\n",
    "    else: # Sklearn models\n",
    "        y_pred = model.predict(X_test)\n",
    "\n",
    "    cm = confusion_matrix(y_test, y_pred)\n",
    "\n",
    "    plt.figure(figsize=(8, 6))\n",
    "    sns.heatmap(cm, annot=True, fmt='d', cmap='Blues',\n",
    "                xticklabels=['Benign (0)', 'Malignant (1)'],\n",
    "                yticklabels=['Benign (0)', 'Malignant (1)'])\n",
    "    plt.xlabel('Predicted Label')\n",
    "    plt.ylabel('True Label')\n",
    "    plt.title(f'{model_name} - Confusion Matrix')\n",
    "    plt.tight_layout()\n",
    "    # Save the plot\n",
    "    plot_path = f'models/{model_name.replace(\" \", \"_\").lower()}_confusion_matrix.png'\n",
    "    plt.savefig(plot_path)\n",
    "    print(f\"Confusion matrix plot saved to {plot_path}\")\n",
    "    plt.show()"
   ]
  },
  {
   "cell_type": "code",
   "execution_count": 89,
   "metadata": {},
   "outputs": [],
   "source": [
    "# 6. Model Training and Evaluation\n",
    "\n",
    "# Initialize results dictionary\n",
    "results = {}"
   ]
  },
  {
   "cell_type": "code",
   "execution_count": 90,
   "metadata": {},
   "outputs": [
    {
     "name": "stdout",
     "output_type": "stream",
     "text": [
      "Logistic Regression model trained.\n"
     ]
    }
   ],
   "source": [
    "# Build and train Logistic Regression model\n",
    "lr_model = build_logistic_regression_model(random_state=random_state)\n",
    "lr_model.fit(X_train_scaled, y_train)\n",
    "print(\"Logistic Regression model trained.\")\n"
   ]
  },
  {
   "cell_type": "code",
   "execution_count": 91,
   "metadata": {},
   "outputs": [],
   "source": [
    "# Evaluate Logistic Regression\n",
    "y_pred_lr = lr_model.predict(X_test_scaled)\n",
    "y_prob_lr = lr_model.predict_proba(X_test_scaled)[:, 1] # Probabilities for ROC AUC\n"
   ]
  },
  {
   "cell_type": "code",
   "execution_count": 92,
   "metadata": {},
   "outputs": [
    {
     "name": "stdout",
     "output_type": "stream",
     "text": [
      "\n",
      "Logistic Regression Evaluation\n",
      "               precision    recall  f1-score   support\n",
      "\n",
      "   Benign (0)       0.99      0.96      0.97        89\n",
      "Malignant (1)       0.92      0.98      0.95        48\n",
      "\n",
      "     accuracy                           0.96       137\n",
      "    macro avg       0.95      0.97      0.96       137\n",
      " weighted avg       0.96      0.96      0.96       137\n",
      "\n",
      "ROC Score: 0.9918\n"
     ]
    }
   ],
   "source": [
    "print(\"\\nLogistic Regression Evaluation\")\n",
    "print(classification_report(y_test, y_pred_lr, target_names=['Benign (0)', 'Malignant (1)']))\n",
    "roc_auc_lr = roc_auc_score(y_test, y_prob_lr)\n",
    "results['Logistic Regression'] = roc_auc_lr\n",
    "print(f\"ROC Score: {roc_auc_lr:.4f}\")\n"
   ]
  },
  {
   "cell_type": "code",
   "execution_count": 93,
   "metadata": {},
   "outputs": [
    {
     "name": "stdout",
     "output_type": "stream",
     "text": [
      "Feature importance plot saved to models/logistic_regression_feature_importance.png\n"
     ]
    },
    {
     "data": {
      "image/png": "[encoded data removed]",
      "text/plain": [
       "<Figure size 1000x600 with 1 Axes>"
      ]
     },
     "metadata": {},
     "output_type": "display_data"
    }
   ],
   "source": [
    "# Plot Feature Importance for Logistic Regression\n",
    "plot_feature_importance(lr_model, 'Logistic Regression', feature_names)\n"
   ]
  },
  {
   "cell_type": "code",
   "execution_count": 95,
   "metadata": {},
   "outputs": [
    {
     "name": "stdout",
     "output_type": "stream",
     "text": [
      "Logistic Regression model saved to models/logistic_regression_model.pkl\n"
     ]
    }
   ],
   "source": [
    "# Save the Logistic Regression model\n",
    "lr_model_path = 'models/logistic_regression_model.pkl'\n",
    "joblib.dump(lr_model, lr_model_path)\n",
    "print(f\"Logistic Regression model saved to {lr_model_path}\")\n"
   ]
  },
  {
   "cell_type": "code",
   "execution_count": 96,
   "metadata": {},
   "outputs": [
    {
     "name": "stdout",
     "output_type": "stream",
     "text": [
      "\n",
      "Random Forest model trained.\n"
     ]
    }
   ],
   "source": [
    "# 6.2 Random Forest\n",
    "\n",
    "# Build and train Random Forest model\n",
    "rf_model = build_random_forest_model(random_state=random_state)\n",
    "rf_model.fit(X_train_scaled, y_train)\n",
    "print(\"\\nRandom Forest model trained.\")"
   ]
  },
  {
   "cell_type": "code",
   "execution_count": 97,
   "metadata": {},
   "outputs": [],
   "source": [
    "# Evaluate Random Forest\n",
    "y_pred_rf = rf_model.predict(X_test_scaled)\n",
    "y_prob_rf = rf_model.predict_proba(X_test_scaled)[:, 1] # Probabilities for ROC AUC\n"
   ]
  },
  {
   "cell_type": "code",
   "execution_count": 98,
   "metadata": {},
   "outputs": [
    {
     "name": "stdout",
     "output_type": "stream",
     "text": [
      "Random Forest Evaluation\n",
      "               precision    recall  f1-score   support\n",
      "\n",
      "   Benign (0)       1.00      0.96      0.98        89\n",
      "Malignant (1)       0.92      1.00      0.96        48\n",
      "\n",
      "     accuracy                           0.97       137\n",
      "    macro avg       0.96      0.98      0.97       137\n",
      " weighted avg       0.97      0.97      0.97       137\n",
      "\n",
      "ROC Score: 0.9864\n"
     ]
    }
   ],
   "source": [
    "print(\"Random Forest Evaluation\")\n",
    "print(classification_report(y_test, y_pred_rf, target_names=['Benign (0)', 'Malignant (1)']))\n",
    "roc_auc_rf = roc_auc_score(y_test, y_prob_rf)\n",
    "results['Random Forest'] = roc_auc_rf\n",
    "print(f\"ROC Score: {roc_auc_rf:.4f}\")"
   ]
  },
  {
   "cell_type": "code",
   "execution_count": 99,
   "metadata": {},
   "outputs": [
    {
     "name": "stdout",
     "output_type": "stream",
     "text": [
      "Feature importance plot saved to models/random_forest_feature_importance.png\n"
     ]
    },
    {
     "data": {
      "image/png": "[encoded data removed]",
      "text/plain": [
       "<Figure size 1000x600 with 1 Axes>"
      ]
     },
     "metadata": {},
     "output_type": "display_data"
    }
   ],
   "source": [
    "# Plot Feature Importance for Random Forest\n",
    "plot_feature_importance(rf_model, 'Random Forest', feature_names)"
   ]
  },
  {
   "cell_type": "code",
   "execution_count": 101,
   "metadata": {},
   "outputs": [
    {
     "name": "stdout",
     "output_type": "stream",
     "text": [
      "Random Forest model saved to models/random_forest_model.pkl\n"
     ]
    }
   ],
   "source": [
    "# Save the Random Forest model\n",
    "rf_model_path = 'models/random_forest_model.pkl'\n",
    "joblib.dump(rf_model, rf_model_path)\n",
    "print(f\"Random Forest model saved to {rf_model_path}\")\n"
   ]
  },
  {
   "cell_type": "code",
   "execution_count": 102,
   "metadata": {},
   "outputs": [
    {
     "name": "stdout",
     "output_type": "stream",
     "text": [
      "\n",
      "Input dimension for Deep Learning model: 9\n"
     ]
    }
   ],
   "source": [
    "# 6.3 Deep Learning Model\n",
    "\n",
    "# Define the input dimension for the DL model\n",
    "input_dim = X_train_scaled.shape[1]\n",
    "print(f\"\\nInput dimension for Deep Learning model: {input_dim}\")\n"
   ]
  },
  {
   "cell_type": "code",
   "execution_count": 103,
   "metadata": {},
   "outputs": [
    {
     "name": "stdout",
     "output_type": "stream",
     "text": [
      "\n",
      "Deep Learning model built.\n"
     ]
    },
    {
     "data": {
      "text/html": [
       "<pre style=\"white-space:pre;overflow-x:auto;line-height:normal;font-family:Menlo,'DejaVu Sans Mono',consolas,'Courier New',monospace\"><span style=\"font-weight: bold\">Model: \"sequential_2\"</span>\n",
       "</pre>\n"
      ],
      "text/plain": [
       "\u001b[1mModel: \"sequential_2\"\u001b[0m\n"
      ]
     },
     "metadata": {},
     "output_type": "display_data"
    },
    {
     "data": {
      "text/html": [
       "<pre style=\"white-space:pre;overflow-x:auto;line-height:normal;font-family:Menlo,'DejaVu Sans Mono',consolas,'Courier New',monospace\">┏━━━━━━━━━━━━━━━━━━━━━━━━━━━━━━━━━┳━━━━━━━━━━━━━━━━━━━━━━━━┳━━━━━━━━━━━━━━━┓\n",
       "┃<span style=\"font-weight: bold\"> Layer (type)                    </span>┃<span style=\"font-weight: bold\"> Output Shape           </span>┃<span style=\"font-weight: bold\">       Param # </span>┃\n",
       "┡━━━━━━━━━━━━━━━━━━━━━━━━━━━━━━━━━╇━━━━━━━━━━━━━━━━━━━━━━━━╇━━━━━━━━━━━━━━━┩\n",
       "│ dense_6 (<span style=\"color: #0087ff; text-decoration-color: #0087ff\">Dense</span>)                 │ (<span style=\"color: #00d7ff; text-decoration-color: #00d7ff\">None</span>, <span style=\"color: #00af00; text-decoration-color: #00af00\">64</span>)             │           <span style=\"color: #00af00; text-decoration-color: #00af00\">640</span> │\n",
       "├─────────────────────────────────┼────────────────────────┼───────────────┤\n",
       "│ batch_normalization_4           │ (<span style=\"color: #00d7ff; text-decoration-color: #00d7ff\">None</span>, <span style=\"color: #00af00; text-decoration-color: #00af00\">64</span>)             │           <span style=\"color: #00af00; text-decoration-color: #00af00\">256</span> │\n",
       "│ (<span style=\"color: #0087ff; text-decoration-color: #0087ff\">BatchNormalization</span>)            │                        │               │\n",
       "├─────────────────────────────────┼────────────────────────┼───────────────┤\n",
       "│ dropout_4 (<span style=\"color: #0087ff; text-decoration-color: #0087ff\">Dropout</span>)             │ (<span style=\"color: #00d7ff; text-decoration-color: #00d7ff\">None</span>, <span style=\"color: #00af00; text-decoration-color: #00af00\">64</span>)             │             <span style=\"color: #00af00; text-decoration-color: #00af00\">0</span> │\n",
       "├─────────────────────────────────┼────────────────────────┼───────────────┤\n",
       "│ dense_7 (<span style=\"color: #0087ff; text-decoration-color: #0087ff\">Dense</span>)                 │ (<span style=\"color: #00d7ff; text-decoration-color: #00d7ff\">None</span>, <span style=\"color: #00af00; text-decoration-color: #00af00\">32</span>)             │         <span style=\"color: #00af00; text-decoration-color: #00af00\">2,080</span> │\n",
       "├─────────────────────────────────┼────────────────────────┼───────────────┤\n",
       "│ batch_normalization_5           │ (<span style=\"color: #00d7ff; text-decoration-color: #00d7ff\">None</span>, <span style=\"color: #00af00; text-decoration-color: #00af00\">32</span>)             │           <span style=\"color: #00af00; text-decoration-color: #00af00\">128</span> │\n",
       "│ (<span style=\"color: #0087ff; text-decoration-color: #0087ff\">BatchNormalization</span>)            │                        │               │\n",
       "├─────────────────────────────────┼────────────────────────┼───────────────┤\n",
       "│ dropout_5 (<span style=\"color: #0087ff; text-decoration-color: #0087ff\">Dropout</span>)             │ (<span style=\"color: #00d7ff; text-decoration-color: #00d7ff\">None</span>, <span style=\"color: #00af00; text-decoration-color: #00af00\">32</span>)             │             <span style=\"color: #00af00; text-decoration-color: #00af00\">0</span> │\n",
       "├─────────────────────────────────┼────────────────────────┼───────────────┤\n",
       "│ dense_8 (<span style=\"color: #0087ff; text-decoration-color: #0087ff\">Dense</span>)                 │ (<span style=\"color: #00d7ff; text-decoration-color: #00d7ff\">None</span>, <span style=\"color: #00af00; text-decoration-color: #00af00\">1</span>)              │            <span style=\"color: #00af00; text-decoration-color: #00af00\">33</span> │\n",
       "└─────────────────────────────────┴────────────────────────┴───────────────┘\n",
       "</pre>\n"
      ],
      "text/plain": [
       "┏━━━━━━━━━━━━━━━━━━━━━━━━━━━━━━━━━┳━━━━━━━━━━━━━━━━━━━━━━━━┳━━━━━━━━━━━━━━━┓\n",
       "┃\u001b[1m \u001b[0m\u001b[1mLayer (type)                   \u001b[0m\u001b[1m \u001b[0m┃\u001b[1m \u001b[0m\u001b[1mOutput Shape          \u001b[0m\u001b[1m \u001b[0m┃\u001b[1m \u001b[0m\u001b[1m      Param #\u001b[0m\u001b[1m \u001b[0m┃\n",
       "┡━━━━━━━━━━━━━━━━━━━━━━━━━━━━━━━━━╇━━━━━━━━━━━━━━━━━━━━━━━━╇━━━━━━━━━━━━━━━┩\n",
       "│ dense_6 (\u001b[38;5;33mDense\u001b[0m)                 │ (\u001b[38;5;45mNone\u001b[0m, \u001b[38;5;34m64\u001b[0m)             │           \u001b[38;5;34m640\u001b[0m │\n",
       "├─────────────────────────────────┼────────────────────────┼───────────────┤\n",
       "│ batch_normalization_4           │ (\u001b[38;5;45mNone\u001b[0m, \u001b[38;5;34m64\u001b[0m)             │           \u001b[38;5;34m256\u001b[0m │\n",
       "│ (\u001b[38;5;33mBatchNormalization\u001b[0m)            │                        │               │\n",
       "├─────────────────────────────────┼────────────────────────┼───────────────┤\n",
       "│ dropout_4 (\u001b[38;5;33mDropout\u001b[0m)             │ (\u001b[38;5;45mNone\u001b[0m, \u001b[38;5;34m64\u001b[0m)             │             \u001b[38;5;34m0\u001b[0m │\n",
       "├─────────────────────────────────┼────────────────────────┼───────────────┤\n",
       "│ dense_7 (\u001b[38;5;33mDense\u001b[0m)                 │ (\u001b[38;5;45mNone\u001b[0m, \u001b[38;5;34m32\u001b[0m)             │         \u001b[38;5;34m2,080\u001b[0m │\n",
       "├─────────────────────────────────┼────────────────────────┼───────────────┤\n",
       "│ batch_normalization_5           │ (\u001b[38;5;45mNone\u001b[0m, \u001b[38;5;34m32\u001b[0m)             │           \u001b[38;5;34m128\u001b[0m │\n",
       "│ (\u001b[38;5;33mBatchNormalization\u001b[0m)            │                        │               │\n",
       "├─────────────────────────────────┼────────────────────────┼───────────────┤\n",
       "│ dropout_5 (\u001b[38;5;33mDropout\u001b[0m)             │ (\u001b[38;5;45mNone\u001b[0m, \u001b[38;5;34m32\u001b[0m)             │             \u001b[38;5;34m0\u001b[0m │\n",
       "├─────────────────────────────────┼────────────────────────┼───────────────┤\n",
       "│ dense_8 (\u001b[38;5;33mDense\u001b[0m)                 │ (\u001b[38;5;45mNone\u001b[0m, \u001b[38;5;34m1\u001b[0m)              │            \u001b[38;5;34m33\u001b[0m │\n",
       "└─────────────────────────────────┴────────────────────────┴───────────────┘\n"
      ]
     },
     "metadata": {},
     "output_type": "display_data"
    },
    {
     "data": {
      "text/html": [
       "<pre style=\"white-space:pre;overflow-x:auto;line-height:normal;font-family:Menlo,'DejaVu Sans Mono',consolas,'Courier New',monospace\"><span style=\"font-weight: bold\"> Total params: </span><span style=\"color: #00af00; text-decoration-color: #00af00\">3,137</span> (12.25 KB)\n",
       "</pre>\n"
      ],
      "text/plain": [
       "\u001b[1m Total params: \u001b[0m\u001b[38;5;34m3,137\u001b[0m (12.25 KB)\n"
      ]
     },
     "metadata": {},
     "output_type": "display_data"
    },
    {
     "data": {
      "text/html": [
       "<pre style=\"white-space:pre;overflow-x:auto;line-height:normal;font-family:Menlo,'DejaVu Sans Mono',consolas,'Courier New',monospace\"><span style=\"font-weight: bold\"> Trainable params: </span><span style=\"color: #00af00; text-decoration-color: #00af00\">2,945</span> (11.50 KB)\n",
       "</pre>\n"
      ],
      "text/plain": [
       "\u001b[1m Trainable params: \u001b[0m\u001b[38;5;34m2,945\u001b[0m (11.50 KB)\n"
      ]
     },
     "metadata": {},
     "output_type": "display_data"
    },
    {
     "data": {
      "text/html": [
       "<pre style=\"white-space:pre;overflow-x:auto;line-height:normal;font-family:Menlo,'DejaVu Sans Mono',consolas,'Courier New',monospace\"><span style=\"font-weight: bold\"> Non-trainable params: </span><span style=\"color: #00af00; text-decoration-color: #00af00\">192</span> (768.00 B)\n",
       "</pre>\n"
      ],
      "text/plain": [
       "\u001b[1m Non-trainable params: \u001b[0m\u001b[38;5;34m192\u001b[0m (768.00 B)\n"
      ]
     },
     "metadata": {},
     "output_type": "display_data"
    }
   ],
   "source": [
    "# Build the Deep Learning model\n",
    "dl_model = build_deep_learning_model(input_dim)\n",
    "print(\"\\nDeep Learning model built.\")\n",
    "dl_model.summary() # Print model summary\n"
   ]
  },
  {
   "cell_type": "code",
   "execution_count": 104,
   "metadata": {},
   "outputs": [
    {
     "name": "stdout",
     "output_type": "stream",
     "text": [
      "You must install graphviz (see instructions at https://graphviz.gitlab.io/download/) for `plot_model` to work.\n",
      "Model architecture plot saved to models/deep_learning_architecture.png\n",
      "An error occurred while plotting model architecture: [Errno 2] No such file or directory: 'models/deep_learning_architecture.png'\n"
     ]
    }
   ],
   "source": [
    "# Visualize the model architecture (requires pydot and graphviz)\n",
    "model_architecture_path = 'models/deep_learning_architecture.png'\n",
    "try:\n",
    "    plot_model(dl_model, to_file=model_architecture_path, show_shapes=True, show_layer_names=True)\n",
    "    print(f\"Model architecture plot saved to {model_architecture_path}\")\n",
    "    # Display the image in the notebook\n",
    "    display(Image(filename=model_architecture_path))\n",
    "except ImportError as e:\n",
    "    print(f\"Could not plot model architecture: {e}. Please install pydot and graphviz.\")\n",
    "except Exception as e:\n",
    "    print(f\"An error occurred while plotting model architecture: {e}\")\n"
   ]
  },
  {
   "cell_type": "code",
   "execution_count": 105,
   "metadata": {},
   "outputs": [],
   "source": [
    "# Define callbacks for the Deep Learning model\n",
    "dl_model_path = 'models/deep_learning_model.keras'\n",
    "callbacks = [\n",
    "    ModelCheckpoint(\n",
    "        filepath=dl_model_path,\n",
    "        monitor='val_loss', # Monitor validation loss\n",
    "        save_best_only=True, # Save only the best model\n",
    "        verbose=1\n",
    "    ),\n",
    "    EarlyStopping(\n",
    "        monitor='val_loss',\n",
    "        patience=patience, # Stop if no improvement after 'patience' epochs\n",
    "        restore_best_weights=True, # Restore weights from the best epoch\n",
    "        verbose=1\n",
    "    )\n",
    "]"
   ]
  },
  {
   "cell_type": "code",
   "execution_count": 106,
   "metadata": {},
   "outputs": [
    {
     "name": "stdout",
     "output_type": "stream",
     "text": [
      "\n",
      "Calculated Class Weights: {0: np.float64(0.7690140845070423), 1: np.float64(1.4293193717277488)}\n"
     ]
    }
   ],
   "source": [
    "# Calculate class weights (optional, but helpful for imbalanced datasets)\n",
    "# Weight for class 0: total_samples / (n_classes * count_class_0)\n",
    "# Weight for class 1: total_samples / (n_classes * count_class_1)\n",
    "neg, pos = np.bincount(y_train)\n",
    "total = neg + pos\n",
    "weight_for_0 = (1 / neg) * (total / 2.0) if neg > 0 else 0\n",
    "weight_for_1 = (1 / pos) * (total / 2.0) if pos > 0 else 0\n",
    "class_weight = {0: weight_for_0, 1: weight_for_1}\n",
    "print(f\"\\nCalculated Class Weights: {class_weight}\")\n"
   ]
  },
  {
   "cell_type": "code",
   "execution_count": 107,
   "metadata": {},
   "outputs": [
    {
     "name": "stdout",
     "output_type": "stream",
     "text": [
      "\n",
      "Starting Deep Learning model training...\n",
      "Epoch 1/50\n",
      "\u001b[1m 1/14\u001b[0m \u001b[32m━\u001b[0m\u001b[37m━━━━━━━━━━━━━━━━━━━\u001b[0m \u001b[1m6s\u001b[0m 501ms/step - accuracy: 0.4688 - loss: 1.2321\n",
      "Epoch 1: val_loss improved from inf to 0.49106, saving model to models/deep_learning_model.keras\n",
      "\u001b[1m14/14\u001b[0m \u001b[32m━━━━━━━━━━━━━━━━━━━━\u001b[0m\u001b[37m\u001b[0m \u001b[1m1s\u001b[0m 8ms/step - accuracy: 0.6302 - loss: 0.8005 - val_accuracy: 0.9727 - val_loss: 0.4911\n",
      "Epoch 2/50\n",
      "\u001b[1m 1/14\u001b[0m \u001b[32m━\u001b[0m\u001b[37m━━━━━━━━━━━━━━━━━━━\u001b[0m \u001b[1m0s\u001b[0m 9ms/step - accuracy: 0.9062 - loss: 0.4116\n",
      "Epoch 2: val_loss improved from 0.49106 to 0.36199, saving model to models/deep_learning_model.keras\n",
      "\u001b[1m14/14\u001b[0m \u001b[32m━━━━━━━━━━━━━━━━━━━━\u001b[0m\u001b[37m\u001b[0m \u001b[1m0s\u001b[0m 3ms/step - accuracy: 0.8984 - loss: 0.3045 - val_accuracy: 0.9727 - val_loss: 0.3620\n",
      "Epoch 3/50\n",
      "\u001b[1m 1/14\u001b[0m \u001b[32m━\u001b[0m\u001b[37m━━━━━━━━━━━━━━━━━━━\u001b[0m \u001b[1m0s\u001b[0m 8ms/step - accuracy: 1.0000 - loss: 0.1022\n",
      "Epoch 3: val_loss improved from 0.36199 to 0.28558, saving model to models/deep_learning_model.keras\n",
      "\u001b[1m14/14\u001b[0m \u001b[32m━━━━━━━━━━━━━━━━━━━━\u001b[0m\u001b[37m\u001b[0m \u001b[1m0s\u001b[0m 4ms/step - accuracy: 0.9629 - loss: 0.1611 - val_accuracy: 0.9727 - val_loss: 0.2856\n",
      "Epoch 4/50\n",
      "\u001b[1m 1/14\u001b[0m \u001b[32m━\u001b[0m\u001b[37m━━━━━━━━━━━━━━━━━━━\u001b[0m \u001b[1m0s\u001b[0m 11ms/step - accuracy: 1.0000 - loss: 0.0579\n",
      "Epoch 4: val_loss improved from 0.28558 to 0.23465, saving model to models/deep_learning_model.keras\n",
      "\u001b[1m14/14\u001b[0m \u001b[32m━━━━━━━━━━━━━━━━━━━━\u001b[0m\u001b[37m\u001b[0m \u001b[1m0s\u001b[0m 7ms/step - accuracy: 0.9608 - loss: 0.1320 - val_accuracy: 0.9727 - val_loss: 0.2347\n",
      "Epoch 5/50\n",
      "\u001b[1m 1/14\u001b[0m \u001b[32m━\u001b[0m\u001b[37m━━━━━━━━━━━━━━━━━━━\u001b[0m \u001b[1m0s\u001b[0m 11ms/step - accuracy: 0.9375 - loss: 0.1519\n",
      "Epoch 5: val_loss improved from 0.23465 to 0.19806, saving model to models/deep_learning_model.keras\n",
      "\u001b[1m14/14\u001b[0m \u001b[32m━━━━━━━━━━━━━━━━━━━━\u001b[0m\u001b[37m\u001b[0m \u001b[1m0s\u001b[0m 3ms/step - accuracy: 0.9613 - loss: 0.1264 - val_accuracy: 0.9818 - val_loss: 0.1981\n",
      "Epoch 6/50\n",
      "\u001b[1m 1/14\u001b[0m \u001b[32m━\u001b[0m\u001b[37m━━━━━━━━━━━━━━━━━━━\u001b[0m \u001b[1m0s\u001b[0m 9ms/step - accuracy: 0.9375 - loss: 0.1162\n",
      "Epoch 6: val_loss improved from 0.19806 to 0.17155, saving model to models/deep_learning_model.keras\n",
      "\u001b[1m14/14\u001b[0m \u001b[32m━━━━━━━━━━━━━━━━━━━━\u001b[0m\u001b[37m\u001b[0m \u001b[1m0s\u001b[0m 3ms/step - accuracy: 0.9454 - loss: 0.1269 - val_accuracy: 0.9818 - val_loss: 0.1716\n",
      "Epoch 7/50\n",
      "\u001b[1m 1/14\u001b[0m \u001b[32m━\u001b[0m\u001b[37m━━━━━━━━━━━━━━━━━━━\u001b[0m \u001b[1m0s\u001b[0m 10ms/step - accuracy: 0.9688 - loss: 0.0846\n",
      "Epoch 7: val_loss improved from 0.17155 to 0.15200, saving model to models/deep_learning_model.keras\n",
      "\u001b[1m14/14\u001b[0m \u001b[32m━━━━━━━━━━━━━━━━━━━━\u001b[0m\u001b[37m\u001b[0m \u001b[1m0s\u001b[0m 3ms/step - accuracy: 0.9728 - loss: 0.0813 - val_accuracy: 0.9818 - val_loss: 0.1520\n",
      "Epoch 8/50\n",
      "\u001b[1m 1/14\u001b[0m \u001b[32m━\u001b[0m\u001b[37m━━━━━━━━━━━━━━━━━━━\u001b[0m \u001b[1m0s\u001b[0m 10ms/step - accuracy: 0.9688 - loss: 0.1228\n",
      "Epoch 8: val_loss improved from 0.15200 to 0.13696, saving model to models/deep_learning_model.keras\n",
      "\u001b[1m14/14\u001b[0m \u001b[32m━━━━━━━━━━━━━━━━━━━━\u001b[0m\u001b[37m\u001b[0m \u001b[1m0s\u001b[0m 3ms/step - accuracy: 0.9674 - loss: 0.1051 - val_accuracy: 0.9818 - val_loss: 0.1370\n",
      "Epoch 9/50\n",
      "\u001b[1m 1/14\u001b[0m \u001b[32m━\u001b[0m\u001b[37m━━━━━━━━━━━━━━━━━━━\u001b[0m \u001b[1m0s\u001b[0m 11ms/step - accuracy: 0.9375 - loss: 0.1417\n",
      "Epoch 9: val_loss improved from 0.13696 to 0.12545, saving model to models/deep_learning_model.keras\n",
      "\u001b[1m14/14\u001b[0m \u001b[32m━━━━━━━━━━━━━━━━━━━━\u001b[0m\u001b[37m\u001b[0m \u001b[1m0s\u001b[0m 3ms/step - accuracy: 0.9676 - loss: 0.1065 - val_accuracy: 0.9818 - val_loss: 0.1255\n",
      "Epoch 10/50\n",
      "\u001b[1m 1/14\u001b[0m \u001b[32m━\u001b[0m\u001b[37m━━━━━━━━━━━━━━━━━━━\u001b[0m \u001b[1m0s\u001b[0m 9ms/step - accuracy: 0.9688 - loss: 0.1680\n",
      "Epoch 10: val_loss improved from 0.12545 to 0.11666, saving model to models/deep_learning_model.keras\n",
      "\u001b[1m14/14\u001b[0m \u001b[32m━━━━━━━━━━━━━━━━━━━━\u001b[0m\u001b[37m\u001b[0m \u001b[1m0s\u001b[0m 3ms/step - accuracy: 0.9776 - loss: 0.0994 - val_accuracy: 0.9727 - val_loss: 0.1167\n",
      "Epoch 11/50\n",
      "\u001b[1m 1/14\u001b[0m \u001b[32m━\u001b[0m\u001b[37m━━━━━━━━━━━━━━━━━━━\u001b[0m \u001b[1m0s\u001b[0m 10ms/step - accuracy: 0.9688 - loss: 0.1316\n",
      "Epoch 11: val_loss improved from 0.11666 to 0.10994, saving model to models/deep_learning_model.keras\n",
      "\u001b[1m14/14\u001b[0m \u001b[32m━━━━━━━━━━━━━━━━━━━━\u001b[0m\u001b[37m\u001b[0m \u001b[1m0s\u001b[0m 3ms/step - accuracy: 0.9738 - loss: 0.0924 - val_accuracy: 0.9727 - val_loss: 0.1099\n",
      "Epoch 12/50\n",
      "\u001b[1m 1/14\u001b[0m \u001b[32m━\u001b[0m\u001b[37m━━━━━━━━━━━━━━━━━━━\u001b[0m \u001b[1m0s\u001b[0m 10ms/step - accuracy: 1.0000 - loss: 0.0487\n",
      "Epoch 12: val_loss improved from 0.10994 to 0.10384, saving model to models/deep_learning_model.keras\n",
      "\u001b[1m14/14\u001b[0m \u001b[32m━━━━━━━━━━━━━━━━━━━━\u001b[0m\u001b[37m\u001b[0m \u001b[1m0s\u001b[0m 3ms/step - accuracy: 0.9737 - loss: 0.1143 - val_accuracy: 0.9727 - val_loss: 0.1038\n",
      "Epoch 13/50\n",
      "\u001b[1m 1/14\u001b[0m \u001b[32m━\u001b[0m\u001b[37m━━━━━━━━━━━━━━━━━━━\u001b[0m \u001b[1m0s\u001b[0m 10ms/step - accuracy: 0.9375 - loss: 0.1245\n",
      "Epoch 13: val_loss improved from 0.10384 to 0.10081, saving model to models/deep_learning_model.keras\n",
      "\u001b[1m14/14\u001b[0m \u001b[32m━━━━━━━━━━━━━━━━━━━━\u001b[0m\u001b[37m\u001b[0m \u001b[1m0s\u001b[0m 3ms/step - accuracy: 0.9700 - loss: 0.0834 - val_accuracy: 0.9727 - val_loss: 0.1008\n",
      "Epoch 14/50\n",
      "\u001b[1m 1/14\u001b[0m \u001b[32m━\u001b[0m\u001b[37m━━━━━━━━━━━━━━━━━━━\u001b[0m \u001b[1m0s\u001b[0m 9ms/step - accuracy: 0.9688 - loss: 0.0894\n",
      "Epoch 14: val_loss improved from 0.10081 to 0.09928, saving model to models/deep_learning_model.keras\n",
      "\u001b[1m14/14\u001b[0m \u001b[32m━━━━━━━━━━━━━━━━━━━━\u001b[0m\u001b[37m\u001b[0m \u001b[1m0s\u001b[0m 3ms/step - accuracy: 0.9703 - loss: 0.1033 - val_accuracy: 0.9727 - val_loss: 0.0993\n",
      "Epoch 15/50\n",
      "\u001b[1m 1/14\u001b[0m \u001b[32m━\u001b[0m\u001b[37m━━━━━━━━━━━━━━━━━━━\u001b[0m \u001b[1m0s\u001b[0m 10ms/step - accuracy: 0.9688 - loss: 0.0525\n",
      "Epoch 15: val_loss improved from 0.09928 to 0.09704, saving model to models/deep_learning_model.keras\n",
      "\u001b[1m14/14\u001b[0m \u001b[32m━━━━━━━━━━━━━━━━━━━━\u001b[0m\u001b[37m\u001b[0m \u001b[1m0s\u001b[0m 3ms/step - accuracy: 0.9703 - loss: 0.0839 - val_accuracy: 0.9727 - val_loss: 0.0970\n",
      "Epoch 16/50\n",
      "\u001b[1m 1/14\u001b[0m \u001b[32m━\u001b[0m\u001b[37m━━━━━━━━━━━━━━━━━━━\u001b[0m \u001b[1m0s\u001b[0m 10ms/step - accuracy: 0.9688 - loss: 0.0351\n",
      "Epoch 16: val_loss did not improve from 0.09704\n",
      "\u001b[1m14/14\u001b[0m \u001b[32m━━━━━━━━━━━━━━━━━━━━\u001b[0m\u001b[37m\u001b[0m \u001b[1m0s\u001b[0m 2ms/step - accuracy: 0.9753 - loss: 0.0756 - val_accuracy: 0.9727 - val_loss: 0.0972\n",
      "Epoch 17/50\n",
      "\u001b[1m 1/14\u001b[0m \u001b[32m━\u001b[0m\u001b[37m━━━━━━━━━━━━━━━━━━━\u001b[0m \u001b[1m0s\u001b[0m 8ms/step - accuracy: 1.0000 - loss: 0.0535\n",
      "Epoch 17: val_loss improved from 0.09704 to 0.09567, saving model to models/deep_learning_model.keras\n",
      "\u001b[1m14/14\u001b[0m \u001b[32m━━━━━━━━━━━━━━━━━━━━\u001b[0m\u001b[37m\u001b[0m \u001b[1m0s\u001b[0m 3ms/step - accuracy: 0.9766 - loss: 0.0847 - val_accuracy: 0.9727 - val_loss: 0.0957\n",
      "Epoch 18/50\n",
      "\u001b[1m 1/14\u001b[0m \u001b[32m━\u001b[0m\u001b[37m━━━━━━━━━━━━━━━━━━━\u001b[0m \u001b[1m0s\u001b[0m 9ms/step - accuracy: 0.9688 - loss: 0.0709\n",
      "Epoch 18: val_loss did not improve from 0.09567\n",
      "\u001b[1m14/14\u001b[0m \u001b[32m━━━━━━━━━━━━━━━━━━━━\u001b[0m\u001b[37m\u001b[0m \u001b[1m0s\u001b[0m 3ms/step - accuracy: 0.9671 - loss: 0.1043 - val_accuracy: 0.9727 - val_loss: 0.0962\n",
      "Epoch 19/50\n",
      "\u001b[1m 1/14\u001b[0m \u001b[32m━\u001b[0m\u001b[37m━━━━━━━━━━━━━━━━━━━\u001b[0m \u001b[1m0s\u001b[0m 57ms/step - accuracy: 0.9375 - loss: 0.1839\n",
      "Epoch 19: val_loss improved from 0.09567 to 0.09489, saving model to models/deep_learning_model.keras\n",
      "\u001b[1m14/14\u001b[0m \u001b[32m━━━━━━━━━━━━━━━━━━━━\u001b[0m\u001b[37m\u001b[0m \u001b[1m0s\u001b[0m 3ms/step - accuracy: 0.9615 - loss: 0.1028 - val_accuracy: 0.9727 - val_loss: 0.0949\n",
      "Epoch 20/50\n",
      "\u001b[1m 1/14\u001b[0m \u001b[32m━\u001b[0m\u001b[37m━━━━━━━━━━━━━━━━━━━\u001b[0m \u001b[1m0s\u001b[0m 11ms/step - accuracy: 0.9375 - loss: 0.0863\n",
      "Epoch 20: val_loss did not improve from 0.09489\n",
      "\u001b[1m14/14\u001b[0m \u001b[32m━━━━━━━━━━━━━━━━━━━━\u001b[0m\u001b[37m\u001b[0m \u001b[1m0s\u001b[0m 3ms/step - accuracy: 0.9669 - loss: 0.1022 - val_accuracy: 0.9636 - val_loss: 0.0969\n",
      "Epoch 21/50\n",
      "\u001b[1m 1/14\u001b[0m \u001b[32m━\u001b[0m\u001b[37m━━━━━━━━━━━━━━━━━━━\u001b[0m \u001b[1m0s\u001b[0m 10ms/step - accuracy: 0.9688 - loss: 0.0399\n",
      "Epoch 21: val_loss did not improve from 0.09489\n",
      "\u001b[1m14/14\u001b[0m \u001b[32m━━━━━━━━━━━━━━━━━━━━\u001b[0m\u001b[37m\u001b[0m \u001b[1m0s\u001b[0m 3ms/step - accuracy: 0.9643 - loss: 0.0930 - val_accuracy: 0.9727 - val_loss: 0.1003\n",
      "Epoch 22/50\n",
      "\u001b[1m 1/14\u001b[0m \u001b[32m━\u001b[0m\u001b[37m━━━━━━━━━━━━━━━━━━━\u001b[0m \u001b[1m0s\u001b[0m 8ms/step - accuracy: 0.9688 - loss: 0.0882\n",
      "Epoch 22: val_loss did not improve from 0.09489\n",
      "\u001b[1m14/14\u001b[0m \u001b[32m━━━━━━━━━━━━━━━━━━━━\u001b[0m\u001b[37m\u001b[0m \u001b[1m0s\u001b[0m 2ms/step - accuracy: 0.9685 - loss: 0.0906 - val_accuracy: 0.9727 - val_loss: 0.1018\n",
      "Epoch 23/50\n",
      "\u001b[1m 1/14\u001b[0m \u001b[32m━\u001b[0m\u001b[37m━━━━━━━━━━━━━━━━━━━\u001b[0m \u001b[1m0s\u001b[0m 8ms/step - accuracy: 0.9688 - loss: 0.0519\n",
      "Epoch 23: val_loss did not improve from 0.09489\n",
      "\u001b[1m14/14\u001b[0m \u001b[32m━━━━━━━━━━━━━━━━━━━━\u001b[0m\u001b[37m\u001b[0m \u001b[1m0s\u001b[0m 2ms/step - accuracy: 0.9743 - loss: 0.0671 - val_accuracy: 0.9727 - val_loss: 0.1061\n",
      "Epoch 24/50\n",
      "\u001b[1m 1/14\u001b[0m \u001b[32m━\u001b[0m\u001b[37m━━━━━━━━━━━━━━━━━━━\u001b[0m \u001b[1m0s\u001b[0m 8ms/step - accuracy: 0.9688 - loss: 0.1158\n",
      "Epoch 24: val_loss did not improve from 0.09489\n",
      "\u001b[1m14/14\u001b[0m \u001b[32m━━━━━━━━━━━━━━━━━━━━\u001b[0m\u001b[37m\u001b[0m \u001b[1m0s\u001b[0m 3ms/step - accuracy: 0.9718 - loss: 0.0810 - val_accuracy: 0.9727 - val_loss: 0.1074\n",
      "Epoch 25/50\n",
      "\u001b[1m 1/14\u001b[0m \u001b[32m━\u001b[0m\u001b[37m━━━━━━━━━━━━━━━━━━━\u001b[0m \u001b[1m0s\u001b[0m 9ms/step - accuracy: 0.9688 - loss: 0.0743\n",
      "Epoch 25: val_loss did not improve from 0.09489\n",
      "\u001b[1m14/14\u001b[0m \u001b[32m━━━━━━━━━━━━━━━━━━━━\u001b[0m\u001b[37m\u001b[0m \u001b[1m0s\u001b[0m 2ms/step - accuracy: 0.9588 - loss: 0.0932 - val_accuracy: 0.9727 - val_loss: 0.1086\n",
      "Epoch 26/50\n",
      "\u001b[1m 1/14\u001b[0m \u001b[32m━\u001b[0m\u001b[37m━━━━━━━━━━━━━━━━━━━\u001b[0m \u001b[1m0s\u001b[0m 8ms/step - accuracy: 0.9688 - loss: 0.0835\n",
      "Epoch 26: val_loss did not improve from 0.09489\n",
      "\u001b[1m14/14\u001b[0m \u001b[32m━━━━━━━━━━━━━━━━━━━━\u001b[0m\u001b[37m\u001b[0m \u001b[1m0s\u001b[0m 2ms/step - accuracy: 0.9820 - loss: 0.0588 - val_accuracy: 0.9727 - val_loss: 0.1099\n",
      "Epoch 27/50\n",
      "\u001b[1m 1/14\u001b[0m \u001b[32m━\u001b[0m\u001b[37m━━━━━━━━━━━━━━━━━━━\u001b[0m \u001b[1m0s\u001b[0m 8ms/step - accuracy: 0.9688 - loss: 0.0808\n",
      "Epoch 27: val_loss did not improve from 0.09489\n",
      "\u001b[1m14/14\u001b[0m \u001b[32m━━━━━━━━━━━━━━━━━━━━\u001b[0m\u001b[37m\u001b[0m \u001b[1m0s\u001b[0m 2ms/step - accuracy: 0.9769 - loss: 0.0700 - val_accuracy: 0.9727 - val_loss: 0.1139\n",
      "Epoch 28/50\n",
      "\u001b[1m 1/14\u001b[0m \u001b[32m━\u001b[0m\u001b[37m━━━━━━━━━━━━━━━━━━━\u001b[0m \u001b[1m0s\u001b[0m 9ms/step - accuracy: 1.0000 - loss: 0.0246\n",
      "Epoch 28: val_loss did not improve from 0.09489\n",
      "\u001b[1m14/14\u001b[0m \u001b[32m━━━━━━━━━━━━━━━━━━━━\u001b[0m\u001b[37m\u001b[0m \u001b[1m0s\u001b[0m 2ms/step - accuracy: 0.9708 - loss: 0.0698 - val_accuracy: 0.9727 - val_loss: 0.1149\n",
      "Epoch 29/50\n",
      "\u001b[1m 1/14\u001b[0m \u001b[32m━\u001b[0m\u001b[37m━━━━━━━━━━━━━━━━━━━\u001b[0m \u001b[1m0s\u001b[0m 8ms/step - accuracy: 1.0000 - loss: 0.0435\n",
      "Epoch 29: val_loss did not improve from 0.09489\n",
      "\u001b[1m14/14\u001b[0m \u001b[32m━━━━━━━━━━━━━━━━━━━━\u001b[0m\u001b[37m\u001b[0m \u001b[1m0s\u001b[0m 2ms/step - accuracy: 0.9918 - loss: 0.0422 - val_accuracy: 0.9727 - val_loss: 0.1164\n",
      "Epoch 29: early stopping\n",
      "Restoring model weights from the end of the best epoch: 19.\n",
      "\n",
      "Deep Learning model training finished.\n"
     ]
    }
   ],
   "source": [
    "# Train the Deep Learning model\n",
    "print(\"\\nStarting Deep Learning model training...\")\n",
    "history = dl_model.fit(\n",
    "    X_train_scaled,\n",
    "    y_train,\n",
    "    validation_split=0.2, # Use part of training data for validation during training\n",
    "    epochs=epochs,\n",
    "    batch_size=batch_size,\n",
    "    callbacks=callbacks,\n",
    "    class_weight=class_weight, # Use calculated class weights\n",
    "    verbose=1 # Show progress\n",
    ")\n",
    "print(\"\\nDeep Learning model training finished.\")\n"
   ]
  },
  {
   "cell_type": "code",
   "execution_count": 108,
   "metadata": {},
   "outputs": [
    {
     "name": "stdout",
     "output_type": "stream",
     "text": [
      "Loading best Deep Learning model from models/deep_learning_model.keras\n"
     ]
    }
   ],
   "source": [
    "# Load the best saved model (due to ModelCheckpoint)\n",
    "print(f\"Loading best Deep Learning model from {dl_model_path}\")\n",
    "best_dl_model = load_model(dl_model_path)\n"
   ]
  },
  {
   "cell_type": "code",
   "execution_count": 109,
   "metadata": {},
   "outputs": [
    {
     "name": "stdout",
     "output_type": "stream",
     "text": [
      "Training history plot saved to models/deep_learning_model_training_history.png\n"
     ]
    },
    {
     "data": {
      "image/png": "[encoded data removed]",
      "text/plain": [
       "<Figure size 1200x500 with 2 Axes>"
      ]
     },
     "metadata": {},
     "output_type": "display_data"
    }
   ],
   "source": [
    "# Plot Training History for Deep Learning Model\n",
    "plot_training_history(history, 'Deep Learning Model')\n"
   ]
  },
  {
   "cell_type": "code",
   "execution_count": 110,
   "metadata": {},
   "outputs": [
    {
     "name": "stdout",
     "output_type": "stream",
     "text": [
      "\n",
      "Deep Learning Model Evaluation (Best Model)\n",
      "\u001b[1m5/5\u001b[0m \u001b[32m━━━━━━━━━━━━━━━━━━━━\u001b[0m\u001b[37m\u001b[0m \u001b[1m0s\u001b[0m 6ms/step \n"
     ]
    }
   ],
   "source": [
    "# Evaluate the best Deep Learning model\n",
    "print(\"\\nDeep Learning Model Evaluation (Best Model)\")\n",
    "loss_dl, accuracy_dl = best_dl_model.evaluate(X_test_scaled, y_test, verbose=0)\n",
    "y_prob_dl = best_dl_model.predict(X_test_scaled).flatten() # Probabilities\n",
    "y_pred_dl = (y_prob_dl > 0.5).astype(int) # Binary predictions\n"
   ]
  },
  {
   "cell_type": "code",
   "execution_count": 113,
   "metadata": {},
   "outputs": [
    {
     "name": "stdout",
     "output_type": "stream",
     "text": [
      "Test Loss: 0.1133\n",
      "Test Accuracy: 0.9562\n",
      "               precision    recall  f1-score   support\n",
      "\n",
      "   Benign (0)       0.98      0.96      0.97        89\n",
      "Malignant (1)       0.92      0.96      0.94        48\n",
      "\n",
      "     accuracy                           0.96       137\n",
      "    macro avg       0.95      0.96      0.95       137\n",
      " weighted avg       0.96      0.96      0.96       137\n",
      "\n",
      "ROC Score: 0.9932\n"
     ]
    }
   ],
   "source": [
    "print(f\"Test Loss: {loss_dl:.4f}\")\n",
    "print(f\"Test Accuracy: {accuracy_dl:.4f}\")\n",
    "print(classification_report(y_test, y_pred_dl, target_names=['Benign (0)', 'Malignant (1)']))\n",
    "roc_auc_dl = roc_auc_score(y_test, y_prob_dl)\n",
    "results['Deep Learning'] = roc_auc_dl\n",
    "print(f\"ROC Score: {roc_auc_dl:.4f}\")\n",
    "\n"
   ]
  },
  {
   "cell_type": "code",
   "execution_count": 115,
   "metadata": {},
   "outputs": [
    {
     "name": "stdout",
     "output_type": "stream",
     "text": [
      "\n",
      "--- Final Model ROC AUC Scores ---\n",
      "Logistic Regression: 0.9918\n",
      "Random Forest: 0.9864\n",
      "Deep Learning: 0.9932\n"
     ]
    }
   ],
   "source": [
    "# 7. Model Comparison\n",
    "\n",
    "# Print final results\n",
    "print(\"\\n--- Final Model ROC Scores ---\")\n",
    "for name, score in results.items():\n",
    "    print(f\"{name}: {score:.4f}\")\n",
    "\n"
   ]
  },
  {
   "cell_type": "code",
   "execution_count": 116,
   "metadata": {},
   "outputs": [
    {
     "name": "stdout",
     "output_type": "stream",
     "text": [
      "Model comparison plot saved to models/model_comparison.png\n"
     ]
    },
    {
     "data": {
      "image/png": "[encoded data removed]",
      "text/plain": [
       "<Figure size 1000x600 with 1 Axes>"
      ]
     },
     "metadata": {},
     "output_type": "display_data"
    }
   ],
   "source": [
    "\n",
    "# Plot model performance comparison\n",
    "plot_model_performance(results)\n"
   ]
  },
  {
   "cell_type": "markdown",
   "metadata": {},
   "source": [
    "Conclusion\n",
    "\n",
    "This analysis compared three different models (Logistic Regression, Random Forest, and a Deep Learning Neural Network)\n",
    "for classifying breast cancer tumors as benign (0) or malignant (1) based on the Wisconsin Diagnostic Breast Cancer dataset.\n",
    "\n",
    "Key Findings:\n",
    "- Overall Performance: All three models demonstrated very high performance, achieving excellent accuracy and ROC scores on the test set.\n",
    "- Best ROC: The Deep Learning model achieved the highest ROC score (0.9932), indicating slightly better overall discriminatory power. Logistic Regression followed closely (0.9918).\n",
    "- Random Forest Performance: Achieved strong ROC (0.9864) and perfect recall (1.00) for the malignant class, minimizing false negatives. Precision for malignant was 0.92.\n",
    "- Logistic Regression Performance: Provided a robust baseline with high precision (0.92 malignant, 0.99 benign) and recall (0.98 malignant, 0.96 benign).\n",
    "- Deep Learning Training: Training history plots showed good convergence and generalization without significant overfitting.\n",
    "- Feature Importance: 'Bare Nuclei', 'Uniformity of Cell Size/Shape', 'Clump Thickness', 'Marginal Adhesion', and 'Mitoses' were highlighted as important features by LR and RF models.\n",
    "\n",
    "Summary:\n",
    "The Deep Learning model slightly leads in ROC, but Random Forest's perfect malignant recall is clinically significant.\n",
    "Logistic Regression offers good performance and interpretability. The best model depends on the specific priorities.\n",
    "All models and the scaler are saved in the 'models/' directory."
   ]
  },
  {
   "cell_type": "markdown",
   "metadata": {},
   "source": [
    "\n"
   ]
  },
  {
   "cell_type": "code",
   "execution_count": null,
   "metadata": {},
   "outputs": [],
   "source": []
  }
 ],
 "metadata": {
  "kernelspec": {
   "display_name": "Python 3",
   "language": "python",
   "name": "python3"
  },
  "language_info": {
   "codemirror_mode": {
    "name": "ipython",
    "version": 3
   },
   "file_extension": ".py",
   "mimetype": "text/x-python",
   "name": "python",
   "nbconvert_exporter": "python",
   "pygments_lexer": "ipython3",
   "version": "3.9.6"
  }
 },
 "nbformat": 4,
 "nbformat_minor": 2
}
